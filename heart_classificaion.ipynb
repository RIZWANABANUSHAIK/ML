{
 "cells": [
  {
   "cell_type": "markdown",
   "metadata": {},
   "source": [
    "# Heart classification\n",
    "The data set from the kaggle:https://www.kaggle.com/datasets/fedesorian/heart-failure-prediction\n",
    "### imports\n",
    "-here we import torch for gradients and networks<br>\n",
    "-pandas for data processing<br>\n",
    "-sci-kit learn for its usefull functions<br>\n",
    "-shuffle for to shuffle the data \n"
   ]
  },
  {
   "cell_type": "code",
   "execution_count": 49,
   "metadata": {},
   "outputs": [],
   "source": [
    "import torch\n",
    "import pandas as pd\n",
    "import numpy as np\n",
    "from sklearn.preprocessing import StandardScaler as ss\n",
    "from sklearn.utils import shuffle"
   ]
  },
  {
   "cell_type": "markdown",
   "metadata": {},
   "source": [
    "### Reading the csv file\n",
    "-next  we shuffle the data using the shuffle function<br> -printing the first 5 rows "
   ]
  },
  {
   "cell_type": "code",
   "execution_count": 50,
   "metadata": {},
   "outputs": [
    {
     "data": {
      "text/html": [
       "<div>\n",
       "<style scoped>\n",
       "    .dataframe tbody tr th:only-of-type {\n",
       "        vertical-align: middle;\n",
       "    }\n",
       "\n",
       "    .dataframe tbody tr th {\n",
       "        vertical-align: top;\n",
       "    }\n",
       "\n",
       "    .dataframe thead th {\n",
       "        text-align: right;\n",
       "    }\n",
       "</style>\n",
       "<table border=\"1\" class=\"dataframe\">\n",
       "  <thead>\n",
       "    <tr style=\"text-align: right;\">\n",
       "      <th></th>\n",
       "      <th>age</th>\n",
       "      <th>sex</th>\n",
       "      <th>cp</th>\n",
       "      <th>trtbps</th>\n",
       "      <th>chol</th>\n",
       "      <th>fbs</th>\n",
       "      <th>restecg</th>\n",
       "      <th>thalachh</th>\n",
       "      <th>exng</th>\n",
       "      <th>oldpeak</th>\n",
       "      <th>slp</th>\n",
       "      <th>caa</th>\n",
       "      <th>thall</th>\n",
       "      <th>output</th>\n",
       "    </tr>\n",
       "  </thead>\n",
       "  <tbody>\n",
       "    <tr>\n",
       "      <th>295</th>\n",
       "      <td>63</td>\n",
       "      <td>1</td>\n",
       "      <td>0</td>\n",
       "      <td>140</td>\n",
       "      <td>187</td>\n",
       "      <td>0</td>\n",
       "      <td>0</td>\n",
       "      <td>144</td>\n",
       "      <td>1</td>\n",
       "      <td>4.0</td>\n",
       "      <td>2</td>\n",
       "      <td>2</td>\n",
       "      <td>3</td>\n",
       "      <td>0</td>\n",
       "    </tr>\n",
       "    <tr>\n",
       "      <th>235</th>\n",
       "      <td>51</td>\n",
       "      <td>1</td>\n",
       "      <td>0</td>\n",
       "      <td>140</td>\n",
       "      <td>299</td>\n",
       "      <td>0</td>\n",
       "      <td>1</td>\n",
       "      <td>173</td>\n",
       "      <td>1</td>\n",
       "      <td>1.6</td>\n",
       "      <td>2</td>\n",
       "      <td>0</td>\n",
       "      <td>3</td>\n",
       "      <td>0</td>\n",
       "    </tr>\n",
       "    <tr>\n",
       "      <th>202</th>\n",
       "      <td>58</td>\n",
       "      <td>1</td>\n",
       "      <td>0</td>\n",
       "      <td>150</td>\n",
       "      <td>270</td>\n",
       "      <td>0</td>\n",
       "      <td>0</td>\n",
       "      <td>111</td>\n",
       "      <td>1</td>\n",
       "      <td>0.8</td>\n",
       "      <td>2</td>\n",
       "      <td>0</td>\n",
       "      <td>3</td>\n",
       "      <td>0</td>\n",
       "    </tr>\n",
       "    <tr>\n",
       "      <th>175</th>\n",
       "      <td>40</td>\n",
       "      <td>1</td>\n",
       "      <td>0</td>\n",
       "      <td>110</td>\n",
       "      <td>167</td>\n",
       "      <td>0</td>\n",
       "      <td>0</td>\n",
       "      <td>114</td>\n",
       "      <td>1</td>\n",
       "      <td>2.0</td>\n",
       "      <td>1</td>\n",
       "      <td>0</td>\n",
       "      <td>3</td>\n",
       "      <td>0</td>\n",
       "    </tr>\n",
       "    <tr>\n",
       "      <th>115</th>\n",
       "      <td>37</td>\n",
       "      <td>0</td>\n",
       "      <td>2</td>\n",
       "      <td>120</td>\n",
       "      <td>215</td>\n",
       "      <td>0</td>\n",
       "      <td>1</td>\n",
       "      <td>170</td>\n",
       "      <td>0</td>\n",
       "      <td>0.0</td>\n",
       "      <td>2</td>\n",
       "      <td>0</td>\n",
       "      <td>2</td>\n",
       "      <td>1</td>\n",
       "    </tr>\n",
       "  </tbody>\n",
       "</table>\n",
       "</div>"
      ],
      "text/plain": [
       "     age  sex  cp  trtbps  chol  fbs  restecg  thalachh  exng  oldpeak  slp  \\\n",
       "295   63    1   0     140   187    0        0       144     1      4.0    2   \n",
       "235   51    1   0     140   299    0        1       173     1      1.6    2   \n",
       "202   58    1   0     150   270    0        0       111     1      0.8    2   \n",
       "175   40    1   0     110   167    0        0       114     1      2.0    1   \n",
       "115   37    0   2     120   215    0        1       170     0      0.0    2   \n",
       "\n",
       "     caa  thall  output  \n",
       "295    2      3       0  \n",
       "235    0      3       0  \n",
       "202    0      3       0  \n",
       "175    0      3       0  \n",
       "115    0      2       1  "
      ]
     },
     "execution_count": 50,
     "metadata": {},
     "output_type": "execute_result"
    }
   ],
   "source": [
    "features=pd.read_csv(\"./heart.csv\")\n",
    "features=shuffle(features)\n",
    "features.head()"
   ]
  },
  {
   "cell_type": "markdown",
   "metadata": {},
   "source": [
    "#### next popping out the label"
   ]
  },
  {
   "cell_type": "code",
   "execution_count": 51,
   "metadata": {},
   "outputs": [],
   "source": [
    "labels=features.pop(\"output\")"
   ]
  },
  {
   "cell_type": "markdown",
   "metadata": {},
   "source": [
    "### convertions\n",
    "-converting the dataframes into numpy arrays"
   ]
  },
  {
   "cell_type": "code",
   "execution_count": 52,
   "metadata": {},
   "outputs": [],
   "source": [
    "features=np.array(features)\n",
    "lables=np.array(labels).reshape(-1,1)"
   ]
  },
  {
   "cell_type": "markdown",
   "metadata": {},
   "source": [
    "* next line  we will normalize the features so the training process goes faster and printing the first index of the features "
   ]
  },
  {
   "cell_type": "code",
   "execution_count": 53,
   "metadata": {},
   "outputs": [
    {
     "data": {
      "text/plain": [
       "array([ 0.9521966 ,  0.68100522, -0.93851463,  0.47839125, -1.14530589,\n",
       "       -0.41763453, -1.00583187, -0.24694024,  1.43548113,  2.55392051,\n",
       "        0.97635214,  1.24459328,  1.12302895])"
      ]
     },
     "execution_count": 53,
     "metadata": {},
     "output_type": "execute_result"
    }
   ],
   "source": [
    "features = ss().fit_transform(features)\n",
    "features[0]"
   ]
  },
  {
   "cell_type": "markdown",
   "metadata": {},
   "source": [
    "* converting the arrays into tensors so we can perform ml operations on them<br>\n",
    "* finally we are printing the shapes of features and labels"
   ]
  },
  {
   "cell_type": "code",
   "execution_count": 54,
   "metadata": {},
   "outputs": [
    {
     "name": "stdout",
     "output_type": "stream",
     "text": [
      "torch.Size([303, 13])\n",
      "torch.Size([303, 1])\n"
     ]
    }
   ],
   "source": [
    "features = torch.tensor(features, dtype=torch.float32)\n",
    "labels = torch.tensor(labels, dtype=torch.float32).reshape(-1,1)\n",
    "print(features.shape)\n",
    "print(labels.shape)"
   ]
  },
  {
   "cell_type": "markdown",
   "metadata": {},
   "source": [
    "#### -creating a reasonally layered model with forst input size as 16 followed by sigmoid function \n",
    "* sigmoid function output always in between 0 and 1"
   ]
  },
  {
   "cell_type": "code",
   "execution_count": 55,
   "metadata": {},
   "outputs": [],
   "source": [
    "model = torch.nn.Sequential(\n",
    "    torch.nn.Linear(13,9),\n",
    "    torch.nn.ReLU(),\n",
    "    torch.nn.Linear(9,3),\n",
    "    torch.nn.ReLU(),\n",
    "    torch.nn.Linear(3,1),\n",
    "    torch.nn.Sigmoid()\n",
    ")"
   ]
  },
  {
   "cell_type": "markdown",
   "metadata": {},
   "source": [
    "#####  the loss we will use is Binary cross entropy\n",
    "##### the optimizer we will use is SGD-(stochastic gradient descent) to update network weights during training"
   ]
  },
  {
   "cell_type": "code",
   "execution_count": 56,
   "metadata": {},
   "outputs": [],
   "source": [
    "loss_fn = torch.nn.BCELoss()\n",
    "opt = torch.optim.SGD(model.parameters(), lr=1e-3)"
   ]
  },
  {
   "cell_type": "markdown",
   "metadata": {},
   "source": [
    "##### here the training loop for 10000 epochs\n",
    "##### we simply make predictions and calculating the loss\n",
    "##### i next step we will find gradients and optimize the model to reduce loss\n",
    "### For finding the Accuracy \n",
    "##### if predictions are greater than 0.5 then we will make the predictions equal to 1\n",
    "##### if less than 0.5 then we will make the predictions equal to 0\n",
    "##### now ,if the predictions and labels are equal then we increment the count \n",
    "##### now ,accuracy is equal to total count devides length of the predictions"
   ]
  },
  {
   "cell_type": "code",
   "execution_count": 57,
   "metadata": {},
   "outputs": [
    {
     "name": "stdout",
     "output_type": "stream",
     "text": [
      "Loss : 0.3979076147079468\n",
      "Accuracy : 84.49%\n",
      "Loss : 0.3210539221763611\n",
      "Accuracy : 87.79%\n",
      "Loss : 0.29974445700645447\n",
      "Accuracy : 88.45%\n",
      "Loss : 0.2838155925273895\n",
      "Accuracy : 87.79%\n",
      "Loss : 0.27076682448387146\n",
      "Accuracy : 88.78%\n",
      "Loss : 0.25570034980773926\n",
      "Accuracy : 89.11%\n",
      "Loss : 0.2382168173789978\n",
      "Accuracy : 90.76%\n",
      "Loss : 0.21924343705177307\n",
      "Accuracy : 91.42%\n",
      "Loss : 0.1985958069562912\n",
      "Accuracy : 92.08%\n",
      "Loss : 0.1803819239139557\n",
      "Accuracy : 92.74%\n"
     ]
    }
   ],
   "source": [
    "epochs = 100000\n",
    "\n",
    "for epoch in range(epochs):\n",
    "    preds = model(features)\n",
    "    loss = loss_fn(preds,labels)\n",
    "\n",
    "    loss.backward()\n",
    "\n",
    "    opt.step()\n",
    "    opt.zero_grad()\n",
    "\n",
    "    with torch.no_grad():\n",
    "        if (epoch+1)%(epochs//10) == 0:\n",
    "            right = 0\n",
    "            for i in range(len(preds)):\n",
    "                if preds[i][0] >= 0.5:\n",
    "                    preds[i][0] = 1\n",
    "                else:\n",
    "                    preds[i][0] = 0\n",
    "\n",
    "                if preds[i][0] == labels[i][0]:\n",
    "                    right += 1\n",
    "\n",
    "            print(f\"Loss : {loss}\")\n",
    "            print(f\"Accuracy : {round(right * 100/ len(preds), 2)}%\")\n"
   ]
  },
  {
   "cell_type": "markdown",
   "metadata": {},
   "source": [
    "#### Here Saving the weights and biases of our model so we can load em up again whenever we want to make a prediction."
   ]
  },
  {
   "cell_type": "code",
   "execution_count": null,
   "metadata": {},
   "outputs": [],
   "source": [
    "torch.save(model.state_dict(),\"heart_classification.pth\")"
   ]
  }
 ],
 "metadata": {
  "kernelspec": {
   "display_name": "Python 3.8.5 ('base')",
   "language": "python",
   "name": "python3"
  },
  "language_info": {
   "codemirror_mode": {
    "name": "ipython",
    "version": 3
   },
   "file_extension": ".py",
   "mimetype": "text/x-python",
   "name": "python",
   "nbconvert_exporter": "python",
   "pygments_lexer": "ipython3",
   "version": "3.8.5"
  },
  "orig_nbformat": 4,
  "vscode": {
   "interpreter": {
    "hash": "07521bee647cb038a9765ea0ecd3eab4d12b5f5b9eec9493f2d4acdd5b019b2b"
   }
  }
 },
 "nbformat": 4,
 "nbformat_minor": 2
}
