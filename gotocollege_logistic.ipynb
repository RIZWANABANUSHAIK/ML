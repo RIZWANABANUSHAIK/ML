{
 "cells": [
  {
   "cell_type": "markdown",
   "metadata": {},
   "source": [
    "# High school student data related to the decision to go to college\n",
    "The data set from the kaggle:https://www.kaggle.com/datasets/saddamazyazy/go-to-college-dataset\n",
    "### imports\n",
    "-here we import torch for gradients and networks<br>\n",
    "-pandas for data processing<br>\n",
    "-sci-kit learn for its usefull functions<br>\n",
    "-shuffle for to shuffle the data \n"
   ]
  },
  {
   "cell_type": "code",
   "execution_count": 41,
   "metadata": {},
   "outputs": [],
   "source": [
    "import numpy as np\n",
    "import torch\n",
    "import pandas as pd\n",
    "from sklearn.preprocessing import StandardScaler as ss\n",
    "from sklearn.utils import shuffle"
   ]
  },
  {
   "cell_type": "markdown",
   "metadata": {},
   "source": [
    "### Reading the csv file\n",
    "-next we will drop the features not relevant to the output, and the label itself <br> -next converting the categorail fields into 1 or 0's <br>-next  we shuffle the data using the shuffle function<br> -printing the first 5 rows "
   ]
  },
  {
   "cell_type": "code",
   "execution_count": 42,
   "metadata": {},
   "outputs": [
    {
     "data": {
      "text/html": [
       "<div>\n",
       "<style scoped>\n",
       "    .dataframe tbody tr th:only-of-type {\n",
       "        vertical-align: middle;\n",
       "    }\n",
       "\n",
       "    .dataframe tbody tr th {\n",
       "        vertical-align: top;\n",
       "    }\n",
       "\n",
       "    .dataframe thead th {\n",
       "        text-align: right;\n",
       "    }\n",
       "</style>\n",
       "<table border=\"1\" class=\"dataframe\">\n",
       "  <thead>\n",
       "    <tr style=\"text-align: right;\">\n",
       "      <th></th>\n",
       "      <th>parent_age</th>\n",
       "      <th>parent_salary</th>\n",
       "      <th>house_area</th>\n",
       "      <th>average_grades</th>\n",
       "      <th>parent_was_in_college</th>\n",
       "      <th>will_go_to_college</th>\n",
       "      <th>school_accreditation_A</th>\n",
       "      <th>school_accreditation_B</th>\n",
       "      <th>gender_Female</th>\n",
       "      <th>gender_Male</th>\n",
       "      <th>interest_Interested</th>\n",
       "      <th>interest_Less Interested</th>\n",
       "      <th>interest_Not Interested</th>\n",
       "      <th>interest_Uncertain</th>\n",
       "      <th>interest_Very Interested</th>\n",
       "      <th>residence_Rural</th>\n",
       "      <th>residence_Urban</th>\n",
       "    </tr>\n",
       "  </thead>\n",
       "  <tbody>\n",
       "    <tr>\n",
       "      <th>112</th>\n",
       "      <td>52</td>\n",
       "      <td>8160000</td>\n",
       "      <td>75.9</td>\n",
       "      <td>93.55</td>\n",
       "      <td>True</td>\n",
       "      <td>True</td>\n",
       "      <td>0</td>\n",
       "      <td>1</td>\n",
       "      <td>0</td>\n",
       "      <td>1</td>\n",
       "      <td>0</td>\n",
       "      <td>1</td>\n",
       "      <td>0</td>\n",
       "      <td>0</td>\n",
       "      <td>0</td>\n",
       "      <td>1</td>\n",
       "      <td>0</td>\n",
       "    </tr>\n",
       "    <tr>\n",
       "      <th>505</th>\n",
       "      <td>56</td>\n",
       "      <td>4160000</td>\n",
       "      <td>59.6</td>\n",
       "      <td>85.83</td>\n",
       "      <td>False</td>\n",
       "      <td>False</td>\n",
       "      <td>0</td>\n",
       "      <td>1</td>\n",
       "      <td>0</td>\n",
       "      <td>1</td>\n",
       "      <td>1</td>\n",
       "      <td>0</td>\n",
       "      <td>0</td>\n",
       "      <td>0</td>\n",
       "      <td>0</td>\n",
       "      <td>0</td>\n",
       "      <td>1</td>\n",
       "    </tr>\n",
       "    <tr>\n",
       "      <th>96</th>\n",
       "      <td>48</td>\n",
       "      <td>5740000</td>\n",
       "      <td>65.2</td>\n",
       "      <td>83.28</td>\n",
       "      <td>False</td>\n",
       "      <td>False</td>\n",
       "      <td>1</td>\n",
       "      <td>0</td>\n",
       "      <td>0</td>\n",
       "      <td>1</td>\n",
       "      <td>0</td>\n",
       "      <td>0</td>\n",
       "      <td>0</td>\n",
       "      <td>1</td>\n",
       "      <td>0</td>\n",
       "      <td>1</td>\n",
       "      <td>0</td>\n",
       "    </tr>\n",
       "    <tr>\n",
       "      <th>186</th>\n",
       "      <td>55</td>\n",
       "      <td>3660000</td>\n",
       "      <td>77.5</td>\n",
       "      <td>78.59</td>\n",
       "      <td>False</td>\n",
       "      <td>True</td>\n",
       "      <td>1</td>\n",
       "      <td>0</td>\n",
       "      <td>0</td>\n",
       "      <td>1</td>\n",
       "      <td>0</td>\n",
       "      <td>0</td>\n",
       "      <td>1</td>\n",
       "      <td>0</td>\n",
       "      <td>0</td>\n",
       "      <td>0</td>\n",
       "      <td>1</td>\n",
       "    </tr>\n",
       "    <tr>\n",
       "      <th>22</th>\n",
       "      <td>51</td>\n",
       "      <td>3900000</td>\n",
       "      <td>57.9</td>\n",
       "      <td>83.18</td>\n",
       "      <td>False</td>\n",
       "      <td>False</td>\n",
       "      <td>1</td>\n",
       "      <td>0</td>\n",
       "      <td>1</td>\n",
       "      <td>0</td>\n",
       "      <td>0</td>\n",
       "      <td>0</td>\n",
       "      <td>0</td>\n",
       "      <td>0</td>\n",
       "      <td>1</td>\n",
       "      <td>0</td>\n",
       "      <td>1</td>\n",
       "    </tr>\n",
       "  </tbody>\n",
       "</table>\n",
       "</div>"
      ],
      "text/plain": [
       "     parent_age  parent_salary  house_area  average_grades  \\\n",
       "112          52        8160000        75.9           93.55   \n",
       "505          56        4160000        59.6           85.83   \n",
       "96           48        5740000        65.2           83.28   \n",
       "186          55        3660000        77.5           78.59   \n",
       "22           51        3900000        57.9           83.18   \n",
       "\n",
       "     parent_was_in_college  will_go_to_college  school_accreditation_A  \\\n",
       "112                   True                True                       0   \n",
       "505                  False               False                       0   \n",
       "96                   False               False                       1   \n",
       "186                  False                True                       1   \n",
       "22                   False               False                       1   \n",
       "\n",
       "     school_accreditation_B  gender_Female  gender_Male  interest_Interested  \\\n",
       "112                       1              0            1                    0   \n",
       "505                       1              0            1                    1   \n",
       "96                        0              0            1                    0   \n",
       "186                       0              0            1                    0   \n",
       "22                        0              1            0                    0   \n",
       "\n",
       "     interest_Less Interested  interest_Not Interested  interest_Uncertain  \\\n",
       "112                         1                        0                   0   \n",
       "505                         0                        0                   0   \n",
       "96                          0                        0                   1   \n",
       "186                         0                        1                   0   \n",
       "22                          0                        0                   0   \n",
       "\n",
       "     interest_Very Interested  residence_Rural  residence_Urban  \n",
       "112                         0                1                0  \n",
       "505                         0                0                1  \n",
       "96                          0                1                0  \n",
       "186                         0                0                1  \n",
       "22                          1                0                1  "
      ]
     },
     "execution_count": 42,
     "metadata": {},
     "output_type": "execute_result"
    }
   ],
   "source": [
    "data=pd.read_csv(\"./data.csv\")\n",
    "features=data.drop([\"type_school\"],axis=1)\n",
    "features=pd.get_dummies(features)\n",
    "features=shuffle(features)\n",
    "features.head()"
   ]
  },
  {
   "cell_type": "markdown",
   "metadata": {},
   "source": [
    "#### finally popping out the label"
   ]
  },
  {
   "cell_type": "code",
   "execution_count": 43,
   "metadata": {},
   "outputs": [],
   "source": [
    "labels=features.pop(\"will_go_to_college\")\n"
   ]
  },
  {
   "cell_type": "markdown",
   "metadata": {},
   "source": [
    "### convertions\n",
    "-converting the dataframes into numpy arrays"
   ]
  },
  {
   "cell_type": "code",
   "execution_count": 44,
   "metadata": {},
   "outputs": [],
   "source": [
    "features=np.array(features)\n",
    "labels=np.array(labels).reshape(-1,1)\n",
    "\n"
   ]
  },
  {
   "cell_type": "markdown",
   "metadata": {},
   "source": [
    "* next line  we will normalize the features so the training process goes faster and printing the first index of the features "
   ]
  },
  {
   "cell_type": "code",
   "execution_count": 45,
   "metadata": {},
   "outputs": [
    {
     "data": {
      "text/plain": [
       "array([-0.05945106,  1.98907259,  0.09058795,  2.20689746,  0.96076892,\n",
       "       -0.96269532,  0.96269532, -0.97043679,  0.97043679, -0.33333333,\n",
       "        1.83488752, -0.30674404, -0.59428947, -0.69230769,  1.08129432,\n",
       "       -1.08129432])"
      ]
     },
     "execution_count": 45,
     "metadata": {},
     "output_type": "execute_result"
    }
   ],
   "source": [
    "features=ss().fit_transform(features)\n",
    "features[0]"
   ]
  },
  {
   "cell_type": "markdown",
   "metadata": {},
   "source": [
    "* converting the arrays into tensors so we can perform ml operations on them<br>\n",
    "* finally we are printing the shapes of features and labels"
   ]
  },
  {
   "cell_type": "code",
   "execution_count": 46,
   "metadata": {},
   "outputs": [
    {
     "name": "stdout",
     "output_type": "stream",
     "text": [
      "torch.Size([1000, 16]) torch.Size([1000, 1])\n"
     ]
    }
   ],
   "source": [
    "features = torch.tensor(features, dtype=torch.float32)\n",
    "labels = torch.tensor(labels, dtype=torch.float32)\n",
    "print(features.shape,labels.shape)"
   ]
  },
  {
   "cell_type": "markdown",
   "metadata": {},
   "source": [
    "#### -creating a reasonally layered model with forst input size as 16 followed by sigmoid function \n",
    "* sigmoid function output always in between 0 and 1"
   ]
  },
  {
   "cell_type": "code",
   "execution_count": 47,
   "metadata": {},
   "outputs": [],
   "source": [
    "model = torch.nn.Sequential(\n",
    "    torch.nn.Linear(16,10),\n",
    "    torch.nn.ReLU(),\n",
    "    torch.nn.Linear(10,7),\n",
    "    torch.nn.ReLU(),\n",
    "    torch.nn.Linear(7,3),\n",
    "    torch.nn.ReLU(),\n",
    "    torch.nn.Linear(3,1),\n",
    "    torch.nn.Sigmoid()  # Activation function in neural networks\n",
    ")"
   ]
  },
  {
   "cell_type": "markdown",
   "metadata": {},
   "source": [
    "#####  the loss we will use is Binary cross entropy\n",
    "##### the optimizer we will use is SGD-(stochastic gradient descent) to update network weights during training"
   ]
  },
  {
   "cell_type": "code",
   "execution_count": 48,
   "metadata": {},
   "outputs": [],
   "source": [
    "loss_fn = torch.nn.BCELoss()\n",
    "opt = torch.optim.SGD(model.parameters(), lr=1e-2)"
   ]
  },
  {
   "cell_type": "markdown",
   "metadata": {},
   "source": [
    "##### here the training loop for 10000 epochs\n",
    "##### we simply make predictions and calculating the loss\n",
    "##### i next step we will find gradients and optimize the model to reduce loss\n",
    "### For finding the Accuracy \n",
    "##### if predictions are greater than 0.5 then we will make the predictions equal to 1\n",
    "##### if less than 0.5 then we will make the predictions equal to 0\n",
    "##### now ,if the predictions and labels are equal then we increment the count \n",
    "##### now ,accuracy is equal to total count devides length of the predictions"
   ]
  },
  {
   "cell_type": "code",
   "execution_count": 49,
   "metadata": {},
   "outputs": [
    {
     "name": "stdout",
     "output_type": "stream",
     "text": [
      "Loss : 0.573555052280426\n",
      "Accuracy : 82.1%\n",
      "Loss : 0.2883685231208801\n",
      "Accuracy : 87.2%\n",
      "Loss : 0.25057247281074524\n",
      "Accuracy : 89.2%\n",
      "Loss : 0.22803829610347748\n",
      "Accuracy : 90.5%\n",
      "Loss : 0.20742779970169067\n",
      "Accuracy : 91.2%\n",
      "Loss : 0.19018058478832245\n",
      "Accuracy : 91.7%\n",
      "Loss : 0.17769964039325714\n",
      "Accuracy : 92.1%\n",
      "Loss : 0.16729314625263214\n",
      "Accuracy : 92.4%\n",
      "Loss : 0.15853933990001678\n",
      "Accuracy : 93.3%\n",
      "Loss : 0.15072882175445557\n",
      "Accuracy : 94.0%\n"
     ]
    }
   ],
   "source": [
    "epochs = 10000\n",
    "\n",
    "for epoch in range(epochs):\n",
    "    preds = model(features)\n",
    "    loss = loss_fn(preds, labels)\n",
    "\n",
    "    loss.backward()\n",
    "\n",
    "    opt.step()\n",
    "    opt.zero_grad()\n",
    "\n",
    "    with torch.no_grad():\n",
    "        if (epoch+1)%(epochs//10) == 0:\n",
    "            right = 0\n",
    "            for i in range(len(preds)):\n",
    "                if preds[i][0] >= 0.5:\n",
    "                    preds[i][0] = 1\n",
    "                else:\n",
    "                    preds[i][0] = 0\n",
    "\n",
    "                if preds[i][0] == labels[i][0]:\n",
    "                    right += 1\n",
    "\n",
    "\n",
    "            print(f\"Loss : {loss}\")\n",
    "            print(f\"Accuracy : {round(right * 100/ len(preds), 2)}%\")\n"
   ]
  }
 ],
 "metadata": {
  "kernelspec": {
   "display_name": "Python 3.8.5 ('base')",
   "language": "python",
   "name": "python3"
  },
  "language_info": {
   "codemirror_mode": {
    "name": "ipython",
    "version": 3
   },
   "file_extension": ".py",
   "mimetype": "text/x-python",
   "name": "python",
   "nbconvert_exporter": "python",
   "pygments_lexer": "ipython3",
   "version": "3.8.5"
  },
  "orig_nbformat": 4,
  "vscode": {
   "interpreter": {
    "hash": "07521bee647cb038a9765ea0ecd3eab4d12b5f5b9eec9493f2d4acdd5b019b2b"
   }
  }
 },
 "nbformat": 4,
 "nbformat_minor": 2
}
