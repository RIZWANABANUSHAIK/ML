{
 "cells": [
  {
   "cell_type": "code",
   "execution_count": 15,
   "metadata": {},
   "outputs": [],
   "source": [
    "\n",
    "import pandas as pd\n",
    "import numpy as np\n",
    "import torch\n",
    "from sklearn.preprocessing import StandardScaler as ss\n",
    "from sklearn.utils import shuffle\n"
   ]
  },
  {
   "cell_type": "code",
   "execution_count": 16,
   "metadata": {},
   "outputs": [
    {
     "name": "stderr",
     "output_type": "stream",
     "text": [
      "/home/student/anaconda3/lib/python3.8/site-packages/IPython/core/interactiveshell.py:3146: DtypeWarning: Columns (5,17,29,34,35,36,37,38,39,40,41,42,43,47,50) have mixed types.Specify dtype option on import or set low_memory=False.\n",
      "  has_raised = await self.run_ast_nodes(code_ast.body, cell_name,\n"
     ]
    }
   ],
   "source": [
    "data=pd.read_csv(\"./csv_building_damage_assessment.csv\",na_values=[\"None\",\",\",\"nan\",\"\\n\"])\n",
    "data=data.drop([\"building_id\",\"district_id\",\"vdcmun_id\",\"ward_id\"],axis=1)\n",
    "for columns in data.columns:\n",
    "    if data[columns].count()<200000:\n",
    "        data=data.drop(columns,axis=1)\n",
    "\n",
    "data=data.dropna()\n"
   ]
  },
  {
   "cell_type": "code",
   "execution_count": 17,
   "metadata": {},
   "outputs": [],
   "source": [
    "features=pd.get_dummies(data)\n",
    "labels=data[\"damage_grade\"]\n",
    "\n",
    "un_labels=labels.unique()\n",
    "labels=pd.get_dummies(labels)\n"
   ]
  },
  {
   "cell_type": "code",
   "execution_count": 18,
   "metadata": {},
   "outputs": [
    {
     "name": "stdout",
     "output_type": "stream",
     "text": [
      "torch.Size([20201, 40]) torch.Size([20201, 5])\n"
     ]
    }
   ],
   "source": [
    "features=np.array(features)\n",
    "labels=np.array(labels)\n",
    "features=ss().fit_transform(features)\n",
    "features=torch.tensor(features,dtype=torch.float32)\n",
    "labels=torch.tensor(labels,dtype=torch.float32)\n",
    "\n",
    "\n",
    "print(features.shape,labels.shape)"
   ]
  },
  {
   "cell_type": "code",
   "execution_count": 19,
   "metadata": {},
   "outputs": [],
   "source": [
    "from torch.utils.data import TensorDataset,DataLoader\n",
    "BATCH_SIZE=1000\n",
    "\n",
    "dataset=TensorDataset(features[:199000],labels[:199000])\n",
    "dataloader=DataLoader(dataset,batch_size=BATCH_SIZE,shuffle=True)\n"
   ]
  },
  {
   "cell_type": "code",
   "execution_count": 21,
   "metadata": {},
   "outputs": [],
   "source": [
    "model=torch.nn.Sequential(\n",
    "    torch.nn.Linear(40,80),\n",
    "    torch.nn.ReLU(),\n",
    "    torch.nn.Linear(80,30),\n",
    "    torch.nn.ReLU(),\n",
    "    torch.nn.Linear(30,15),\n",
    "    torch.nn.ReLU(),\n",
    "    torch.nn.Linear(15,5),\n",
    "    torch.nn.Softmax(dim=-1)\n",
    ")"
   ]
  },
  {
   "cell_type": "code",
   "execution_count": 22,
   "metadata": {},
   "outputs": [],
   "source": [
    "loss_fn=torch.nn.BCELoss()"
   ]
  },
  {
   "cell_type": "code",
   "execution_count": 23,
   "metadata": {},
   "outputs": [],
   "source": [
    "opt=torch.optim.Adam(model.parameters(),lr=1e-4)"
   ]
  },
  {
   "cell_type": "code",
   "execution_count": 24,
   "metadata": {},
   "outputs": [
    {
     "name": "stdout",
     "output_type": "stream",
     "text": [
      "Accuracy: 96.18095\n",
      "Accuracy: 96.19524\n",
      "Accuracy: 96.19524\n",
      "Accuracy: 96.19524\n",
      "Accuracy: 96.19524\n",
      "Accuracy: 96.19524\n",
      "Accuracy: 96.19524\n",
      "Accuracy: 96.19524\n",
      "Accuracy: 96.19524\n",
      "Accuracy: 96.19524\n"
     ]
    }
   ],
   "source": [
    "from torch import no_grad\n",
    "epochs=1000\n",
    "for epoch in range(epochs):\n",
    "    for features,labels in dataloader:\n",
    "        preds=model(features)\n",
    "        loss=loss_fn(preds,labels)\n",
    "\n",
    "        loss.backward()\n",
    "        opt.step()\n",
    "        opt.zero_grad()\n",
    "  \n",
    "    with torch.no_grad():\n",
    "        if (epoch+1)%(epochs//10)==0:\n",
    "            right=0\n",
    "            for features,labels in dataloader:\n",
    "                preds=model(features)\n",
    "                for i in range(len(preds)):\n",
    "                    for j in range(len(preds[i])):\n",
    "\n",
    "                        if preds[i][j]==max(preds[i]):\n",
    "                            if(labels[i][j]==1):\n",
    "                                right+=1\n",
    "\n",
    "            print(\"Accuracy:\",round(right*100/(len(dataloader)*BATCH_SIZE),2))                   "
   ]
  },
  {
   "cell_type": "code",
   "execution_count": 25,
   "metadata": {},
   "outputs": [],
   "source": [
    "torch.save(model.state_dict(),\"earthquakedamage.pth\")"
   ]
  }
 ],
 "metadata": {
  "kernelspec": {
   "display_name": "Python 3.8.5 ('base')",
   "language": "python",
   "name": "python3"
  },
  "language_info": {
   "codemirror_mode": {
    "name": "ipython",
    "version": 3
   },
   "file_extension": ".py",
   "mimetype": "text/x-python",
   "name": "python",
   "nbconvert_exporter": "python",
   "pygments_lexer": "ipython3",
   "version": "3.8.5"
  },
  "orig_nbformat": 4,
  "vscode": {
   "interpreter": {
    "hash": "07521bee647cb038a9765ea0ecd3eab4d12b5f5b9eec9493f2d4acdd5b019b2b"
   }
  }
 },
 "nbformat": 4,
 "nbformat_minor": 2
}
