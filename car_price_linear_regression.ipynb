{
 "cells": [
  {
   "cell_type": "code",
   "execution_count": 1,
   "metadata": {},
   "outputs": [],
   "source": [
    "import pandas as pd\n",
    "from matplotlib import pyplot as plt\n",
    "import numpy as np\n",
    "import torch \n",
    "from sklearn .preprocessing import StandardScaler"
   ]
  },
  {
   "cell_type": "code",
   "execution_count": 2,
   "metadata": {},
   "outputs": [
    {
     "name": "stdout",
     "output_type": "stream",
     "text": [
      "tensor([[  1.0000,   3.0000,  88.6000,  ...,   1.0000,   0.0000,   0.0000],\n",
      "        [  2.0000,   3.0000,  88.6000,  ...,   1.0000,   0.0000,   0.0000],\n",
      "        [  3.0000,   1.0000,  94.5000,  ...,   1.0000,   0.0000,   0.0000],\n",
      "        ...,\n",
      "        [203.0000,  -1.0000, 109.1000,  ...,   1.0000,   0.0000,   0.0000],\n",
      "        [204.0000,  -1.0000, 109.1000,  ...,   0.0000,   0.0000,   0.0000],\n",
      "        [205.0000,  -1.0000, 109.1000,  ...,   1.0000,   0.0000,   0.0000]])\n"
     ]
    }
   ],
   "source": [
    "dataset = pd.read_csv(\"./CarPrice.csv\")\n",
    "labels=dataset[\"price\"]\n",
    "features=dataset.drop(\"price\",axis=1)\n",
    "features=pd.get_dummies(features)\n",
    "nplabels=np.array(labels).reshape(-1,1)\n",
    "npfeatures=np.array(features)\n",
    "features=torch.tensor(npfeatures,dtype=torch.float32)\n",
    "labels=torch.tensor(nplabels,dtype=torch.float32)\n",
    "features=StandardScaler().fit_transform(features)\n",
    "features=torch.tensor(npfeatures,dtype=torch.float32)\n",
    "print(features)\n"
   ]
  },
  {
   "cell_type": "code",
   "execution_count": 3,
   "metadata": {},
   "outputs": [
    {
     "name": "stdout",
     "output_type": "stream",
     "text": [
      "Parameter containing:\n",
      "tensor([[-0.0295, -0.0442,  0.0330,  ..., -0.0667, -0.0249, -0.0617],\n",
      "        [-0.0701, -0.0443, -0.0539,  ..., -0.0028,  0.0464, -0.0129],\n",
      "        [-0.0049, -0.0539,  0.0490,  ..., -0.0268,  0.0076,  0.0226],\n",
      "        ...,\n",
      "        [-0.0651, -0.0644, -0.0137,  ...,  0.0155,  0.0055,  0.0707],\n",
      "        [-0.0357,  0.0229, -0.0265,  ...,  0.0207,  0.0516, -0.0361],\n",
      "        [-0.0455,  0.0539,  0.0697,  ...,  0.0039, -0.0101, -0.0659]],\n",
      "       requires_grad=True)\n",
      "Parameter containing:\n",
      "tensor([-0.0167, -0.0578,  0.0251, -0.0458, -0.0490, -0.0443,  0.0043,  0.0429,\n",
      "        -0.0640,  0.0637,  0.0287, -0.0242, -0.0196,  0.0569, -0.0231, -0.0243,\n",
      "        -0.0347, -0.0478,  0.0088, -0.0450, -0.0056, -0.0666, -0.0143, -0.0307,\n",
      "         0.0484,  0.0176, -0.0142, -0.0204,  0.0324, -0.0397,  0.0602, -0.0173,\n",
      "        -0.0323,  0.0187,  0.0599, -0.0479,  0.0094,  0.0242, -0.0066,  0.0507,\n",
      "         0.0557,  0.0598,  0.0623, -0.0352,  0.0246, -0.0230, -0.0669,  0.0367,\n",
      "         0.0067, -0.0038,  0.0568,  0.0661, -0.0607,  0.0256,  0.0205, -0.0409,\n",
      "         0.0366,  0.0200, -0.0220, -0.0487, -0.0339,  0.0197, -0.0366,  0.0535,\n",
      "         0.0237,  0.0133,  0.0266, -0.0460, -0.0029,  0.0502, -0.0336, -0.0564,\n",
      "         0.0437, -0.0329, -0.0600,  0.0130,  0.0247,  0.0612,  0.0306, -0.0104,\n",
      "         0.0134,  0.0086, -0.0410, -0.0322,  0.0497, -0.0215, -0.0093, -0.0236,\n",
      "        -0.0677,  0.0028, -0.0189, -0.0201, -0.0191,  0.0097,  0.0043, -0.0547,\n",
      "        -0.0602, -0.0489, -0.0058,  0.0331,  0.0515,  0.0136,  0.0593, -0.0704,\n",
      "         0.0250,  0.0072,  0.0192, -0.0180, -0.0203,  0.0027, -0.0323,  0.0617,\n",
      "         0.0324, -0.0392,  0.0065,  0.0546,  0.0694,  0.0076, -0.0297,  0.0558,\n",
      "         0.0292,  0.0332, -0.0447, -0.0598, -0.0140,  0.0309,  0.0681, -0.0580,\n",
      "         0.0472, -0.0237, -0.0420,  0.0526,  0.0517,  0.0050, -0.0574,  0.0490,\n",
      "         0.0151, -0.0305,  0.0522,  0.0117,  0.0593, -0.0397,  0.0184, -0.0434,\n",
      "        -0.0166,  0.0123,  0.0036,  0.0015, -0.0578, -0.0470,  0.0267, -0.0478,\n",
      "        -0.0544,  0.0390, -0.0258, -0.0311,  0.0521,  0.0227,  0.0297,  0.0701,\n",
      "        -0.0067,  0.0086,  0.0011,  0.0213, -0.0107, -0.0580,  0.0355,  0.0033,\n",
      "         0.0532, -0.0109,  0.0404, -0.0189, -0.0595, -0.0177,  0.0249,  0.0371,\n",
      "         0.0201, -0.0183, -0.0267,  0.0385,  0.0329, -0.0018,  0.0117, -0.0649,\n",
      "        -0.0575,  0.0106,  0.0440, -0.0215,  0.0659, -0.0413, -0.0404, -0.0417,\n",
      "         0.0060,  0.0317,  0.0284, -0.0421, -0.0258, -0.0512,  0.0019, -0.0205,\n",
      "        -0.0309,  0.0034,  0.0293,  0.0623, -0.0674], requires_grad=True)\n"
     ]
    }
   ],
   "source": [
    "model = torch.nn.Linear(200,205)\n",
    "\n",
    "print(model.weight)\n",
    "print(model.bias)"
   ]
  },
  {
   "cell_type": "code",
   "execution_count": 4,
   "metadata": {},
   "outputs": [
    {
     "name": "stdout",
     "output_type": "stream",
     "text": [
      "torch.Size([205, 205])\n"
     ]
    }
   ],
   "source": [
    "\n",
    "preds = model(features)\n",
    "print(preds.shape)"
   ]
  },
  {
   "cell_type": "code",
   "execution_count": 5,
   "metadata": {},
   "outputs": [
    {
     "name": "stderr",
     "output_type": "stream",
     "text": [
      "<ipython-input-5-0863d7043036>:3: UserWarning: Using a target size (torch.Size([205, 1])) that is different to the input size (torch.Size([205, 205])). This will likely lead to incorrect results due to broadcasting. Please ensure they have the same size.\n",
      "  loss  = mse_loss(preds, labels)\n"
     ]
    },
    {
     "name": "stdout",
     "output_type": "stream",
     "text": [
      "tensor(2.3970e+08, grad_fn=<MseLossBackward0>)\n"
     ]
    }
   ],
   "source": [
    "from torch.nn.functional import mse_loss\n",
    "\n",
    "loss  = mse_loss(preds, labels)\n",
    "print(loss)"
   ]
  },
  {
   "cell_type": "code",
   "execution_count": 6,
   "metadata": {},
   "outputs": [
    {
     "name": "stdout",
     "output_type": "stream",
     "text": [
      "tensor([[-1.2880e+04, -1.0064e+02, -1.3099e+04,  ..., -7.9602e+01,\n",
      "         -4.7240e+00, -5.2763e-01],\n",
      "        [-1.2527e+04, -9.7760e+01, -1.2758e+04,  ..., -7.7933e+01,\n",
      "         -4.5691e+00, -5.1051e-01],\n",
      "        [-1.2793e+04, -1.0008e+02, -1.3018e+04,  ..., -7.9167e+01,\n",
      "         -4.6903e+00, -5.2316e-01],\n",
      "        ...,\n",
      "        [-1.2554e+04, -9.7892e+01, -1.2784e+04,  ..., -7.8104e+01,\n",
      "         -4.5799e+00, -5.1206e-01],\n",
      "        [-1.2752e+04, -9.9633e+01, -1.2976e+04,  ..., -7.8995e+01,\n",
      "         -4.6694e+00, -5.2131e-01],\n",
      "        [-1.2857e+04, -1.0057e+02, -1.3078e+04,  ..., -7.9468e+01,\n",
      "         -4.7172e+00, -5.2607e-01]])\n",
      "tensor([-129.9117, -126.4628, -129.0995, -128.7497, -125.8023, -130.7249,\n",
      "        -124.8766, -126.9569, -133.4447, -127.9012, -131.4720, -131.9577,\n",
      "        -129.8208, -131.1360, -129.9306, -129.8802, -127.9858, -131.7840,\n",
      "        -131.9274, -132.0790, -133.0647, -133.0689, -126.8688, -129.3345,\n",
      "        -130.4539, -129.5334, -131.7167, -131.0222, -130.0909, -130.6320,\n",
      "        -129.7667, -131.2862, -126.4260, -129.1465, -125.9742, -130.7760,\n",
      "        -127.0046, -131.9295, -131.7433, -131.6425, -130.5617, -129.7588,\n",
      "        -129.2085, -130.4616, -130.1528, -129.4840, -131.3700, -129.5724,\n",
      "        -128.3030, -124.9212, -130.8079, -127.5918, -126.6607, -129.0270,\n",
      "        -131.2647, -133.0076, -130.9152, -127.9796, -131.8916, -126.9573,\n",
      "        -129.2305, -127.5268, -128.9262, -127.3036, -129.8311, -131.8253,\n",
      "        -125.3314, -129.0826, -128.7987, -132.0073, -131.5336, -129.3707,\n",
      "        -126.8925, -133.9195, -129.3032, -129.3965, -126.7767, -128.6852,\n",
      "        -125.8813, -129.3268, -127.8093, -128.5939, -129.2236, -132.5557,\n",
      "        -129.0875, -129.1286, -127.1170, -132.7341, -125.5771, -131.8551,\n",
      "        -128.9918, -127.9589, -129.4390, -128.4716, -128.8627, -131.3093,\n",
      "        -127.4058, -125.3171, -128.7933, -127.4245, -127.0678, -131.8988,\n",
      "        -127.0461, -129.8727, -132.2909, -130.7248, -126.4006, -132.6938,\n",
      "        -128.2846, -131.6634, -131.2513, -128.0028, -131.7122, -130.0477,\n",
      "        -129.0585, -129.4227, -128.0486, -130.4229, -127.5853, -129.0400,\n",
      "        -129.5124, -128.4998, -129.9745, -131.0416, -134.4958, -127.0599,\n",
      "        -129.9900, -127.5929, -129.9376, -130.3568, -130.5186, -128.0369,\n",
      "        -129.5053, -127.2830, -126.4467, -128.6204, -128.7862, -126.7658,\n",
      "        -128.0472, -129.9914, -127.7739, -126.5887, -130.8134, -128.3860,\n",
      "        -127.7881, -130.7016, -127.0482, -131.8441, -131.8470, -130.6752,\n",
      "        -126.7734, -131.4809, -132.3033, -130.2946, -129.8206, -128.5747,\n",
      "        -131.0161, -129.9723, -133.8365, -130.1874, -127.1986, -129.5195,\n",
      "        -131.0397, -132.4044, -131.8072, -126.2484, -131.4030, -130.1511,\n",
      "        -126.8233, -128.7914, -128.8870, -128.5548, -128.4466, -132.2455,\n",
      "        -132.6218, -128.5337, -130.4916, -128.3128, -130.6471, -131.1218,\n",
      "        -130.4113, -126.3674, -128.7614, -131.1374, -132.1752, -130.9205,\n",
      "        -130.7001, -128.8832, -132.8622, -129.3660, -125.5098, -129.3804,\n",
      "        -129.5978, -127.4954, -129.4609, -132.5047, -129.5661, -127.7848,\n",
      "        -127.1161, -127.6328, -128.6462, -131.9896, -126.7094, -128.6675,\n",
      "        -129.7100])\n"
     ]
    }
   ],
   "source": [
    "loss.backward()\n",
    "\n",
    "print(model.weight.grad)\n",
    "print(model.bias.grad)"
   ]
  },
  {
   "cell_type": "code",
   "execution_count": 7,
   "metadata": {},
   "outputs": [
    {
     "name": "stdout",
     "output_type": "stream",
     "text": [
      "tensor(2.3958e+08, grad_fn=<MseLossBackward0>)\n"
     ]
    },
    {
     "name": "stderr",
     "output_type": "stream",
     "text": [
      "<ipython-input-7-0f9b07d060bf>:7: UserWarning: Using a target size (torch.Size([205, 1])) that is different to the input size (torch.Size([205, 205])). This will likely lead to incorrect results due to broadcasting. Please ensure they have the same size.\n",
      "  loss = mse_loss(preds, labels)\n"
     ]
    }
   ],
   "source": [
    "optimizer = torch.optim.SGD(model.parameters(), lr=1e-9)\n",
    "\n",
    "optimizer.step()\n",
    "optimizer.zero_grad()\n",
    "\n",
    "preds = model(features)\n",
    "loss = mse_loss(preds, labels)\n",
    "print(loss)"
   ]
  },
  {
   "cell_type": "code",
   "execution_count": 8,
   "metadata": {},
   "outputs": [
    {
     "name": "stderr",
     "output_type": "stream",
     "text": [
      "<ipython-input-8-138b09389d4f>:4: UserWarning: Using a target size (torch.Size([205, 1])) that is different to the input size (torch.Size([205, 205])). This will likely lead to incorrect results due to broadcasting. Please ensure they have the same size.\n",
      "  loss = mse_loss(preds, labels)\n"
     ]
    },
    {
     "name": "stdout",
     "output_type": "stream",
     "text": [
      "tensor(2.2836e+08, grad_fn=<MseLossBackward0>)\n",
      "tensor(2.1773e+08, grad_fn=<MseLossBackward0>)\n",
      "tensor(2.0776e+08, grad_fn=<MseLossBackward0>)\n",
      "tensor(1.9842e+08, grad_fn=<MseLossBackward0>)\n",
      "tensor(1.8966e+08, grad_fn=<MseLossBackward0>)\n",
      "tensor(1.8144e+08, grad_fn=<MseLossBackward0>)\n",
      "tensor(1.7374e+08, grad_fn=<MseLossBackward0>)\n",
      "tensor(1.6651e+08, grad_fn=<MseLossBackward0>)\n",
      "tensor(1.5974e+08, grad_fn=<MseLossBackward0>)\n",
      "tensor(1.5339e+08, grad_fn=<MseLossBackward0>)\n"
     ]
    }
   ],
   "source": [
    "epochs = 1000\n",
    "for epoch in range(epochs):\n",
    "    preds = model(features)\n",
    "    loss = mse_loss(preds, labels)\n",
    "    \n",
    "    if (epoch+1)%100 == 0:\n",
    "        print(loss)\n",
    "\n",
    "    loss.backward()\n",
    "    \n",
    "    optimizer.step()\n",
    "    optimizer.zero_grad()"
   ]
  }
 ],
 "metadata": {
  "kernelspec": {
   "display_name": "Python 3.8.5 ('base')",
   "language": "python",
   "name": "python3"
  },
  "language_info": {
   "codemirror_mode": {
    "name": "ipython",
    "version": 3
   },
   "file_extension": ".py",
   "mimetype": "text/x-python",
   "name": "python",
   "nbconvert_exporter": "python",
   "pygments_lexer": "ipython3",
   "version": "3.8.5"
  },
  "orig_nbformat": 4,
  "vscode": {
   "interpreter": {
    "hash": "07521bee647cb038a9765ea0ecd3eab4d12b5f5b9eec9493f2d4acdd5b019b2b"
   }
  }
 },
 "nbformat": 4,
 "nbformat_minor": 2
}
